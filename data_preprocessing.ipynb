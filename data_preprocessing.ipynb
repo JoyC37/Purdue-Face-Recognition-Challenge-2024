{
 "cells": [
  {
   "cell_type": "code",
   "execution_count": 1,
   "id": "1885f9cc-fe58-415e-ada5-89e866c20e6a",
   "metadata": {},
   "outputs": [],
   "source": [
    "import numpy as np\n",
    "import cv2\n",
    "import matplotlib.pyplot as plt\n",
    "import tensorflow as tf\n",
    "import os\n",
    "from PIL import Image"
   ]
  },
  {
   "cell_type": "code",
   "execution_count": null,
   "id": "1c9c8fe5-b3f3-4905-983c-d362cbb69427",
   "metadata": {},
   "outputs": [],
   "source": [
    "face_cascade = cv2.CascadeClassifier('haarcascade_frontalface_default.xml')\n",
    "input_path = 'train/train'\n",
    "output_path = 'categorized_data'\n",
    "training_labels = pd.read_csv('train/train.csv')\n",
    "training_labels.head()"
   ]
  },
  {
   "cell_type": "code",
   "execution_count": null,
   "id": "bd1cbcce-f318-42f1-b792-ea4ba1d1a2d5",
   "metadata": {},
   "outputs": [],
   "source": [
    "for filename in os.listdir(path):\n",
    "    if filename.endswith(('.jpg','.jpeg','.png')):\n",
    "        image = Image.open(os.path.join(path,filename))\n",
    "        if image.mode != 'RGB':\n",
    "            image = image.convert('RGB')\n",
    "        img = np.array(image)\n",
    "        img = cv2.cvtColor(img, cv2.COLOR_RGB2BGR)\n",
    "        gray = cv2.cvtColor(img, cv2.COLOR_BGR2GRAY)\n",
    "        label = training_labels.loc[training_labels['File Name']==filename,'Category'].values[0]\n",
    "        \n",
    "        if not os.path.exists(os.path.join(output_path,label)):\n",
    "            os.mkdir(os.path.join(output_path,label))\n",
    "        \n",
    "        if img is not None:\n",
    "            detected_faces = face_cascade.detectMultiScale(gray,1.2,10,minSize=(64,64),flags=cv2.CASCADE_SCALE_IMAGE)\n",
    "            if detected_faces is None:\n",
    "                img = cv2.resize(img, (128,128))\n",
    "                cv2.imwrite(os.path.join(output_path,label,filename),img)\n",
    "            else:\n",
    "                largest_face = img\n",
    "                max_area = 0\n",
    "                for (x,y,w,h) in detected_faces:\n",
    "                    face_area = w*h\n",
    "                    if face_area > max_area:\n",
    "                        largest_face = img[y:y+h,x:x+w]\n",
    "                        max_area = face_area\n",
    "                        \n",
    "                cv2.imwrite(os.path.join(output_path,label,filename),largest_face)\n",
    "        else:\n",
    "            print(\"Unable to access file {}\".format(filename))"
   ]
  }
 ],
 "metadata": {
  "kernelspec": {
   "display_name": "py310",
   "language": "python",
   "name": "py310"
  },
  "language_info": {
   "codemirror_mode": {
    "name": "ipython",
    "version": 3
   },
   "file_extension": ".py",
   "mimetype": "text/x-python",
   "name": "python",
   "nbconvert_exporter": "python",
   "pygments_lexer": "ipython3",
   "version": "3.10.13"
  }
 },
 "nbformat": 4,
 "nbformat_minor": 5
}
